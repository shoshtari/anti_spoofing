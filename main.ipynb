{
 "cells": [
  {
   "cell_type": "code",
   "execution_count": 1,
   "metadata": {},
   "outputs": [],
   "source": [
    "import cv2\n",
    "import random\n",
    "import numpy as np\n",
    "import pickle\n",
    "from skimage import feature"
   ]
  },
  {
   "cell_type": "code",
   "execution_count": 10,
   "metadata": {},
   "outputs": [],
   "source": [
    "def get_fourier(img):\n",
    "    img = cv2.resize(img, dsize=(40, 40), interpolation=cv2.INTER_CUBIC)\n",
    "    gray = cv2.cvtColor(img, cv2.COLOR_RGB2HSV)[:, :, 1]\n",
    "    \n",
    "    fourier = cv2.dft(np.float32(gray), flags=cv2.DFT_COMPLEX_OUTPUT)\n",
    "    \n",
    "    fourier_shift = np.fft.fftshift(fourier)\n",
    "\n",
    "    magnitude = 20*np.log(cv2.magnitude(fourier_shift[:,:,0],fourier_shift[:,:,1]))\n",
    "    magnitude = cv2.normalize(magnitude, None, 0, 1, cv2.NORM_MINMAX, cv2.CV_8UC1)\n",
    " \n",
    "    phase = cv2.phase(fourier_shift[:,:,0],fourier_shift[:,:,1])\n",
    "    phase = cv2.normalize(phase, None, 0, 1, cv2.NORM_MINMAX, cv2.CV_8UC1)\n",
    "\n",
    "\n",
    "    \n",
    "    return magnitude, phase\n",
    "\n",
    "def calc_lbp(img, p = 24, r = 8):\n",
    "    if len(img.shape) != 2:\n",
    "        gray = cv2.cvtColor(img, cv2.COLOR_RGB2GRAY)\n",
    "    else:\n",
    "        gray = img.copy()\n",
    "    lbp = feature.local_binary_pattern(gray, p, r, method=\"uniform\")\n",
    "    # plt.imshow(lbp, cmap=\"gray\")\n",
    "    # plt.figure()\n",
    "    hist, _ = np.histogram(lbp.ravel(), bins = p)\n",
    "\n",
    "    hist = hist.astype(\"float\")\n",
    "    hist /= hist.sum() \n",
    "    return hist\n",
    "\n",
    "def color_hist(img):\n",
    "    hsv_img = cv2.cvtColor(img, cv2.COLOR_RGB2HSV)\n",
    "    \n",
    "    hists = []\n",
    "    maxes = (180, 256, 256)\n",
    "    for i in range(3):\n",
    "        hists.append(cv2.calcHist([hsv_img[:, :, i]],[0],None,[maxes[i]],[0,maxes[i]]))\n",
    "    return hists\n",
    "\n",
    "def fe(img):\n",
    "    C = calc_lbp(img)\n",
    "    D = color_hist(img)\n",
    "    return np.concatenate([\n",
    "        C, \n",
    "        D[0][:,0], \n",
    "        D[1][:,0], \n",
    "        D[2][:,0],\n",
    "    ])\n",
    "\n",
    "def ft(img):\n",
    "    A, B = get_fourier(img)\n",
    "    return np.concatenate([A[10:20, 0:20].flatten(), A[0:10, 10:20].flatten(), B[10:20, 0:20].flatten(), B[0:10, 10:20].flatten()])\n",
    "\n",
    "fe_classifier = None\n",
    "with open('feature_extrct.pkl','rb') as f:\n",
    "    fe_classifier = pickle.load(f)\n",
    "\n",
    "ft_classifier = None\n",
    "with open('fourier_transform.pkl','rb') as f:\n",
    "    ft_classifier = pickle.load(f)\n",
    "\n",
    "def process(image):\n",
    "    fe_features = fe(image)\n",
    "    ft_features = ft(image)\n",
    "    return fe_classifier.predict([fe_features])[0], ft_classifier.predict([ft_features])[0]\n"
   ]
  },
  {
   "cell_type": "code",
   "execution_count": 13,
   "metadata": {},
   "outputs": [
    {
     "name": "stdout",
     "output_type": "stream",
     "text": [
      "../data/VID_20240706_120044-m.mp4 (array([0]), array([1]))\n",
      "../data/VID_20240706_120108-m.mp4 (array([0]), array([1]))\n",
      "../data/VID_20240706_120134-m.mp4 (array([0]), array([1]))\n",
      "../data/VID_20240707_000026-mv.mp4 (array([0]), array([1]))\n",
      "../data/VID_20240707_000047-mv.mp4 (array([0]), array([1]))\n",
      "../data/VID_20240707_000109-mv.mp4 (array([0]), array([1]))\n"
     ]
    }
   ],
   "source": [
    "paths = []\n",
    "with open('dataset.txt') as ds:\n",
    "  for f in ds:\n",
    "    paths.append(f[:-1])\n",
    "\n",
    "for file_path in paths:\n",
    "  cap = cv2.VideoCapture(file_path)\n",
    "  totalFrames = cap.get(cv2.CAP_PROP_FRAME_COUNT)\n",
    "  randomFrameNumber=random.randint(0, totalFrames)\n",
    "  cap.set(cv2.CAP_PROP_POS_FRAMES,randomFrameNumber)\n",
    "  success, image = cap.read()\n",
    "  if not success:\n",
    "    print (\"reading random frame failed\")\n",
    "    continue\n",
    "  results = process(image)\n",
    "  print(file_path, results)"
   ]
  }
 ],
 "metadata": {
  "kernelspec": {
   "display_name": ".venv",
   "language": "python",
   "name": "python3"
  },
  "language_info": {
   "codemirror_mode": {
    "name": "ipython",
    "version": 3
   },
   "file_extension": ".py",
   "mimetype": "text/x-python",
   "name": "python",
   "nbconvert_exporter": "python",
   "pygments_lexer": "ipython3",
   "version": "3.11.6"
  }
 },
 "nbformat": 4,
 "nbformat_minor": 2
}
