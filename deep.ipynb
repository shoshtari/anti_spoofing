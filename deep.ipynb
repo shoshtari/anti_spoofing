{
 "cells": [
  {
   "cell_type": "code",
   "execution_count": 1,
   "metadata": {},
   "outputs": [
    {
     "name": "stderr",
     "output_type": "stream",
     "text": [
      "2024-07-07 05:57:50.278282: I tensorflow/core/platform/cpu_feature_guard.cc:210] This TensorFlow binary is optimized to use available CPU instructions in performance-critical operations.\n",
      "To enable the following instructions: AVX2 FMA, in other operations, rebuild TensorFlow with the appropriate compiler flags.\n",
      "2024-07-07 05:57:51.068898: W tensorflow/compiler/tf2tensorrt/utils/py_utils.cc:38] TF-TRT Warning: Could not find TensorRT\n"
     ]
    }
   ],
   "source": [
    "import cv2\n",
    "import os\n",
    "import matplotlib.pyplot as plt\n",
    "import cachetools\n",
    "import random \n",
    "import numpy as np\n",
    "import tensorflow as tf\n"
   ]
  },
  {
   "cell_type": "code",
   "execution_count": 2,
   "metadata": {},
   "outputs": [],
   "source": [
    "\n",
    "@cachetools.cached(cache={})\n",
    "def read_video(path: str, frame_index: int = None, min_brightness: int = 10):\n",
    "    video = cv2.VideoCapture(path)\n",
    "    if not video.isOpened():\n",
    "        raise IOError(f\"Error opening video file: {path}\")\n",
    "    \n",
    "\n",
    "    \n",
    "    frames = []\n",
    "    def normalize(img):\n",
    "        img = cv2.cvtColor(img, cv2.COLOR_BGR2RGB) \n",
    "        img = cv2.normalize(img, None, 0, 1, cv2.NORM_MINMAX, cv2.CV_8UC1)\n",
    "        img = cv2.resize(img, (480, 640), None)\n",
    "        return img \n",
    "    \n",
    "    while video.isOpened():\n",
    "        ret, frame = video.read()\n",
    "        frames.append(frame)\n",
    "        if not ret:\n",
    "            break\n",
    "        if len(frames) >= frame_index and np.average(frame) > min_brightness:\n",
    "            return normalize(frame)\n",
    "    if frame_index is None:\n",
    "        frame_index = len(frames) // 2\n",
    "        while np.average(frames[frame_index]) < min_brightness:\n",
    "            frame_index += 1\n",
    "        return normalize(frames[frame_index]) \n",
    "    raise ValueError(\"frame not found\")\n",
    "REAL_FILES = (\n",
    "    \"1.avi\",\n",
    "    \"2.avi\",\n",
    "    \"HR_1.avi\",\n",
    "    \"HR_4.avi\",\n",
    ")\n",
    "def read_dir(path: str):\n",
    "    real_images = []\n",
    "    spoof_images = []\n",
    "    for file in os.listdir(path):\n",
    "        if os.path.isdir(os.path.join(path, file)):\n",
    "            r, s = read_dir(os.path.join(path, file))\n",
    "            real_images.extend(r)\n",
    "            spoof_images.extend(s)\n",
    "        else:\n",
    "            if file.endswith(\".avi\"):\n",
    "                obj = (os.path.join(path, file))\n",
    "                if file in REAL_FILES:\n",
    "                    real_images.append(obj)\n",
    "                    \n",
    "                else:\n",
    "                    spoof_images.append(obj)\n",
    "    return real_images, spoof_images\n",
    "\n",
    "\n",
    "def show_data(ds, rows, cols):\n",
    "    random.shuffle(ds)\n",
    "    for i in range(rows):\n",
    "        for j in range(cols):\n",
    "            ind = i * cols + j \n",
    "            plt.subplot(rows, cols, ind + 1)\n",
    "            plt.imshow(ds[ind])\n",
    "            plt.axis(\"off\")\n",
    "\n",
    "\n",
    "def load_data(path: str, show = False):\n",
    "    @cachetools.cached(cache={})\n",
    "    def inner(path):\n",
    "        r, s = read_dir(path)\n",
    "        real = [read_video(i, frame_index=1) for i in r]\n",
    "        spoof = [read_video(i, frame_index=1) for i in s]\n",
    "        return real, spoof\n",
    "    real, spoof = inner(path)\n",
    "    if show:\n",
    "        show_data(spoof, 4, 3)\n",
    "        plt.figure()\n",
    "        show_data(real, 4, 3)\n",
    "    ds = [(i, 0) for i in real] + [(i, 1) for i in spoof]\n",
    "    random.shuffle(ds)\n",
    "    x = np.array([i[0] for i in ds])\n",
    "    y = np.array([i[1] for i in ds])\n",
    "    return x, y"
   ]
  },
  {
   "cell_type": "code",
   "execution_count": 14,
   "metadata": {},
   "outputs": [],
   "source": [
    "x_train, y_train = load_data(\"./datasets/train_release\")\n",
    "x_test, y_test = load_data(\"./datasets/test_release\")"
   ]
  },
  {
   "cell_type": "code",
   "execution_count": 15,
   "metadata": {},
   "outputs": [
    {
     "name": "stderr",
     "output_type": "stream",
     "text": [
      "/tmp/ipykernel_223117/635910364.py:2: UserWarning: `input_shape` is undefined or non-square, or `rows` is not in [128, 160, 192, 224]. Weights for input shape (224, 224) will be loaded as the default.\n",
      "  mobilenet = tf.keras.applications.MobileNet(\n"
     ]
    }
   ],
   "source": [
    "# https://openaccess.thecvf.com/content_cvpr_2018/papers/Liu_Learning_Deep_Models_CVPR_2018_paper.pdf\n",
    "mobilenet = tf.keras.applications.MobileNet(\n",
    "    include_top=False,\n",
    "    weights='imagenet',\n",
    "    input_tensor=None,\n",
    "    input_shape=(640, 480, 3),\n",
    "    pooling=None,\n",
    "    classes=2,\n",
    "    classifier_activation='softmax'\n",
    ")\n",
    "for l in mobilenet.layers[:len(mobilenet.layers)]:\n",
    "    l.trainable = False\n",
    "\n",
    "model = tf.keras.Sequential()\n",
    "model.add(mobilenet)\n",
    "model.add(tf.keras.layers.Flatten())\n",
    "model.add(tf.keras.layers.Dropout(rate = 0.8))\n",
    "model.add(tf.keras.layers.Dense(2, activation='softmax'))\n",
    "\n",
    "model.compile(\n",
    "    optimizer=tf.keras.optimizers.Adam(0.001),\n",
    "    loss='sparse_categorical_crossentropy',\n",
    "    metrics=['accuracy']\n",
    ")\n",
    "\n"
   ]
  },
  {
   "cell_type": "code",
   "execution_count": 25,
   "metadata": {},
   "outputs": [],
   "source": [
    "def add_salt_pepper(img, rate = 0.2): \n",
    "    \n",
    "    w, h, _ = img.shape \n",
    "    noised_image = img.copy()\n",
    "    white = (255, 255, 255)\n",
    "    black = (0, 0, 0)\n",
    "    for i in range(w):\n",
    "        for j in range(h):\n",
    "            if random.random() > rate:\n",
    "                continue\n",
    "            noised_image[i, j] = white if random.random() > 0.5 else black \n",
    "    return noised_image\n",
    "\n",
    "noised_image = [add_salt_pepper(i) for i in x_train]\n",
    "blurred_image = [cv2.GaussianBlur(i, (13, 13), 10) for i in x_train]\n",
    "\n",
    "augmented_x = np.concatenate([x_train, noised_image, blurred_image])\n",
    "augmented_y = np.concatenate([y_train, y_train, y_train])\n",
    "ind = list(range(len(augmented_x)))\n",
    "random.shuffle(ind)\n",
    "x_train_final = [None for _ in range(len(augmented_x))]\n",
    "y_train_final = [None for _ in range(len(augmented_x))]\n",
    "for i in range(len(ind)):\n",
    "    x_train_final[i] = augmented_x[ind[i]]\n",
    "    y_train_final[i] = augmented_y[ind[i]]\n"
   ]
  },
  {
   "cell_type": "code",
   "execution_count": 28,
   "metadata": {},
   "outputs": [
    {
     "name": "stdout",
     "output_type": "stream",
     "text": [
      "Epoch 1/5\n",
      "\u001b[1m8/8\u001b[0m \u001b[32m━━━━━━━━━━━━━━━━━━━━\u001b[0m\u001b[37m\u001b[0m \u001b[1m9s\u001b[0m 815ms/step - accuracy: 0.5959 - loss: 20.0751 - val_accuracy: 0.8389 - val_loss: 3.1569\n",
      "Epoch 2/5\n",
      "\u001b[1m8/8\u001b[0m \u001b[32m━━━━━━━━━━━━━━━━━━━━\u001b[0m\u001b[37m\u001b[0m \u001b[1m3s\u001b[0m 331ms/step - accuracy: 0.8928 - loss: 3.5662 - val_accuracy: 0.8556 - val_loss: 3.5480\n",
      "Epoch 3/5\n",
      "\u001b[1m8/8\u001b[0m \u001b[32m━━━━━━━━━━━━━━━━━━━━\u001b[0m\u001b[37m\u001b[0m \u001b[1m3s\u001b[0m 332ms/step - accuracy: 0.9693 - loss: 1.0266 - val_accuracy: 0.9306 - val_loss: 2.3579\n",
      "Epoch 4/5\n",
      "\u001b[1m8/8\u001b[0m \u001b[32m━━━━━━━━━━━━━━━━━━━━\u001b[0m\u001b[37m\u001b[0m \u001b[1m3s\u001b[0m 333ms/step - accuracy: 1.0000 - loss: 0.0000e+00 - val_accuracy: 0.8861 - val_loss: 4.0287\n",
      "Epoch 5/5\n",
      "\u001b[1m8/8\u001b[0m \u001b[32m━━━━━━━━━━━━━━━━━━━━\u001b[0m\u001b[37m\u001b[0m \u001b[1m3s\u001b[0m 331ms/step - accuracy: 0.9986 - loss: 0.0096 - val_accuracy: 0.8444 - val_loss: 5.5298\n"
     ]
    },
    {
     "data": {
      "text/plain": [
       "<keras.src.callbacks.history.History at 0x7bc86c089ac0>"
      ]
     },
     "execution_count": 28,
     "metadata": {},
     "output_type": "execute_result"
    }
   ],
   "source": [
    "model.fit(x_train, y_train, epochs=5, validation_data=(x_test,y_test))\n",
    "# print(len(x_train_final), len(y_train_final), len(x_train))"
   ]
  }
 ],
 "metadata": {
  "kernelspec": {
   "display_name": "venv",
   "language": "python",
   "name": "python3"
  },
  "language_info": {
   "codemirror_mode": {
    "name": "ipython",
    "version": 3
   },
   "file_extension": ".py",
   "mimetype": "text/x-python",
   "name": "python",
   "nbconvert_exporter": "python",
   "pygments_lexer": "ipython3",
   "version": "3.12.4"
  }
 },
 "nbformat": 4,
 "nbformat_minor": 2
}
